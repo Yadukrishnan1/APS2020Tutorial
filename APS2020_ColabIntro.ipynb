{
  "nbformat": 4,
  "nbformat_minor": 0,
  "metadata": {
    "colab": {
      "name": "APS2020_ColabIntro.ipynb",
      "provenance": [],
      "collapsed_sections": [],
      "toc_visible": true,
      "include_colab_link": true
    },
    "kernelspec": {
      "name": "python3",
      "display_name": "Python 3"
    }
  },
  "cells": [
    {
      "cell_type": "markdown",
      "metadata": {
        "id": "view-in-github",
        "colab_type": "text"
      },
      "source": [
        "<a href=\"https://colab.research.google.com/github/ziatdinovmax/APS2020Tutorial/blob/master/APS2020_ColabIntro.ipynb\" target=\"_parent\"><img src=\"https://colab.research.google.com/assets/colab-badge.svg\" alt=\"Open In Colab\"/></a>"
      ]
    },
    {
      "cell_type": "markdown",
      "metadata": {
        "id": "hkcI78C4Sybk",
        "colab_type": "text"
      },
      "source": [
        "# Basic operations in Colaboratory notebook"
      ]
    },
    {
      "cell_type": "markdown",
      "metadata": {
        "id": "X1eAzUL-twns",
        "colab_type": "text"
      },
      "source": [
        "Created: June 2019\n",
        "\n",
        "Updated: February 2020\n",
        "\n",
        "Author: Maxim Ziatdinov\n",
        "\n",
        "Email: ziatdinovmax@gmail.com"
      ]
    },
    {
      "cell_type": "markdown",
      "metadata": {
        "id": "5DTQU4m2Uk35",
        "colab_type": "text"
      },
      "source": [
        "---\n",
        "\n",
        "[Colaboratory](https://research.google.com/colaboratory/faq.html) (or Colab) is a free research tool from Google for machine learning education and research built on top of [Jupyter Notebook](https://jupyter.org/). From our experience, it is also an ideal tool for scientific collaboration and sharing your results with non-experts (as opposed to, say, collaboration via a GitHub project), especially when there are drastic fluctuations in coding skills across a team/collaboration. This particular notebook starts with a brief overview of Colab's UI and then shows some simple operations in Colab notebooks, including some basic plotting, code parameterization, usage of shell commands and several examples of working with PyTorch deep machine learning library. Notice that many popular Python packages, such as tensorflow, pytorch, scikit, opencv, are already installed in Colaboratory. So we can just import them into our notebook and start having fun.\n",
        "\n",
        "---\n",
        "\n"
      ]
    },
    {
      "cell_type": "markdown",
      "metadata": {
        "id": "gvZo58B9gh8M",
        "colab_type": "text"
      },
      "source": [
        "##Notebook rules:\n",
        "\n",
        "Some basic notebook rules:\n",
        "\n",
        "*General Jupyter notebooks rules:*\n",
        "\n",
        "\n",
        "1.   Click inside a cell with code and press SHIFT+ENTER to execute it.\n",
        "2.   Re-executing a cell will reset it (any input will be lost).\n",
        "3.   Execute cells TOP TO BOTTOM.\n",
        "\n",
        "*Colab-specific rules:*\n",
        "\n",
        "5. Notebooks are saved to your Google Drive (for some notebooks, you will need to click on \"COPY TO DRIVE\" first).\n",
        "6. Mount your Google Drive to have a direct access from a notebook to the files stored in the drive (this includes Team Drives).\n",
        "7. If using Colab's virtual storage only, all the uploaded/stored files will get deleted when a runtime is recycled."
      ]
    },
    {
      "cell_type": "markdown",
      "metadata": {
        "id": "lSmlIG2Z3xg9",
        "colab_type": "text"
      },
      "source": [
        "## Colab UI"
      ]
    },
    {
      "cell_type": "markdown",
      "metadata": {
        "id": "ePS_CtpL3CM_",
        "colab_type": "text"
      },
      "source": [
        "###Opening notebooks\n",
        "\n",
        "\n",
        "You can open any notebook hosted on GitHub by going to Colaboratory [start page](https://colab.research.google.com) and selecting GITHUB from a menu dialog. Then search for a specific GitHub repository and choose a notebook that you would like to open from the list of notebooks in that repository. From the same [start page](https://colab.research.google.com) you can view and open notebooks stored in your GDrive, upload a regular Jupyter notebook from your local machine and start an entirely new notebook. Colab currently supports Python 2 and Python 3 kernels as well as a [Swift kernel](https://github.com/tensorflow/swift/blob/master/Usage.md#colaboratory). You can also choose between GPU and [TPU](https://colab.research.google.com/notebooks/tpu.ipynb) hardware accelerator options for your Colab notebook  (*Edit --> Notebook settings* or *Runtime --> Change runtime type*)."
      ]
    },
    {
      "cell_type": "markdown",
      "metadata": {
        "id": "BkkrjXN8x_Vq",
        "colab_type": "text"
      },
      "source": [
        "###Upload/download files\n",
        "\n",
        "\n",
        "Once you open a Google Colab notebook, it creates a virtual machine instance on a Google Cloud Platform. To upload files from your local machine to Colab virtual storage, use UPLOAD option from the left sidebar. To download files from Colab's virtual storage to your local machine, right-click on a file and then select ''Download\". You can also mount your google drive: once you click on MOUNT DRIVE in the left sidebar, it will insert a code cell into your notebook that you'll need to run to mount your google drive (it will ask for your authorization). Another way to download files (without mounting a google drive) is to use a `!gdown` or `!wget` commands (more details in the [Shell commands](#scrollTo=JrF12-bqPKPm) section)<br><br>\n",
        "\n",
        "\n",
        "<img src=\"https://drive.google.com/uc?export=view&id=1CRjolVrVbEboNPLVVw-c_AtsBBcSou1Z\" width=800 px><br><br>"
      ]
    },
    {
      "cell_type": "markdown",
      "metadata": {
        "id": "ztbOYEUwyDIq",
        "colab_type": "text"
      },
      "source": [
        "### Share your notebooks\n",
        "\n",
        "You may share your notebooks the same way you share Google Docs and Google Slides (it needs to be stored in your/team Google Drive for this). You can also comment on individual code cells in a notebook and your collaborators will receive your comments (in a form of email notification), as long as the notebook is shared with them. To leave a comment, click on *More cell actions* (three vertical dots in the right side of any code cell) and select *Add a Comment*.  Alternatively, you may use a *Ctrl+Alt+M* shortcut. The ability to share comments can be very useful if you make some important additions/changes to the notebook (e.g. when you have an eureca moment) and you want your collaborators to see those additions/changes asap. It is also very useful when you get stuck and need help/advice.<br><br>\n",
        "\n",
        "<img src=\"https://drive.google.com/uc?export=view&id=1pofWWSCqhtKBxxjS28nP7mA2pgfJ5Zet\" width=800 px><br><br>"
      ]
    },
    {
      "cell_type": "markdown",
      "metadata": {
        "id": "LznJ4fbmiZvW",
        "colab_type": "text"
      },
      "source": [
        "## Simple math with numpy and matplotlib"
      ]
    },
    {
      "cell_type": "markdown",
      "metadata": {
        "colab_type": "text",
        "id": "Sl1VzZSRkGGp"
      },
      "source": [
        "We can use \"standard\" python packages like [numpy](https://www.numpy.org/) and [matplotlib](https://matplotlib.org/) as well any many other popular packages for data manipulation and data vizualization, which are pre-installed in Colab ."
      ]
    },
    {
      "cell_type": "code",
      "metadata": {
        "colab_type": "code",
        "id": "XYNq0mwTkGGn",
        "colab": {}
      },
      "source": [
        "# Package for manipulation with numerical data\n",
        "import numpy as np\n",
        "# Package for plotting\n",
        "import matplotlib.pyplot as plt"
      ],
      "execution_count": 0,
      "outputs": []
    },
    {
      "cell_type": "markdown",
      "metadata": {
        "colab_type": "text",
        "id": "AAkwo2VSkGGl"
      },
      "source": [
        "As an example, let's make a plot of *sin* and *cos* waves using numpy and matplotlib.\n",
        "\n",
        "First, define *'x'* and *'y'*:"
      ]
    },
    {
      "cell_type": "code",
      "metadata": {
        "colab_type": "code",
        "id": "dUshwphCkGGh",
        "colab": {}
      },
      "source": [
        "# creates array of data points between 0 and 10, with 0.01 interval\n",
        "x = np.arange(0, 10, 0.01)\n",
        "# calculates sin function at each point\n",
        "y_sin = np.sin(x)\n",
        "# calculates cos function at each point\n",
        "y_cos = np.cos(x)"
      ],
      "execution_count": 0,
      "outputs": []
    },
    {
      "cell_type": "markdown",
      "metadata": {
        "colab_type": "text",
        "id": "VAoobxVIkGGf"
      },
      "source": [
        "Now plot sine and cosine waves:"
      ]
    },
    {
      "cell_type": "code",
      "metadata": {
        "colab_type": "code",
        "outputId": "8a7b6890-9cb9-4f82-a109-da00f78afda7",
        "id": "hW1uYFIikGGR",
        "colab": {
          "base_uri": "https://localhost:8080/",
          "height": 535
        }
      },
      "source": [
        "# creates a figure and a set of subplots (ax1 and ax2)\n",
        "fig, (ax1, ax2) = plt.subplots(nrows=2, ncols=1, sharex=True, figsize=(8, 8))\n",
        "# plot sine wave in the first subplot\n",
        "ax1.plot(x, y_sin)\n",
        "ax1.set_title('Sine wave')\n",
        "ax1.set_ylabel('y', fontsize=14, style='italic')\n",
        "# plot cosine wave in the second subplot\n",
        "ax2.plot(x, y_cos)\n",
        "ax2.set_title('Cosine wave')\n",
        "ax2.set_ylabel('y', fontsize=14, style='italic')\n",
        "# this axis is shared by two subplots\n",
        "ax2.set_xlabel('x (rad)', fontsize=14, style='italic')"
      ],
      "execution_count": 3,
      "outputs": [
        {
          "output_type": "execute_result",
          "data": {
            "text/plain": [
              "Text(0.5, 0, 'x (rad)')"
            ]
          },
          "metadata": {
            "tags": []
          },
          "execution_count": 3
        },
        {
          "output_type": "display_data",
          "data": {
            "image/png": "[encoded data removed]",
            "text/plain": [
              "<Figure size 576x576 with 2 Axes>"
            ]
          },
          "metadata": {
            "tags": []
          }
        }
      ]
    },
    {
      "cell_type": "markdown",
      "metadata": {
        "id": "exESruHD_X4M",
        "colab_type": "text"
      },
      "source": [
        "## Forms"
      ]
    },
    {
      "cell_type": "markdown",
      "metadata": {
        "id": "p_e5IYOdCUcX",
        "colab_type": "text"
      },
      "source": [
        "You can use forms to parameterize your code. To add a form, use *Insert --> Add form field*.  Everytime you change the value in a form, the corresponding value in the code cell will adjust accordingly. Press SHIFT+ENTER or \"PLAY\" button on the left side to run the cell. In the example below we can adjust $a$ and $b$ parameters for $y = a sin(bx)$ function, level of noise and a figure size:"
      ]
    },
    {
      "cell_type": "code",
      "metadata": {
        "id": "i6Vr2Z9Q_ncJ",
        "colab_type": "code",
        "cellView": "both",
        "outputId": "ef2a8821-829e-4f89-993b-896b9efe8aac",
        "colab": {
          "base_uri": "https://localhost:8080/",
          "height": 517
        }
      },
      "source": [
        "#@title Using Forms in Colab\n",
        "a = 1 #@param {type:\"slider\", min:0.5, max:5, step:0.1}\n",
        "b = 1.9 #@param {type:\"slider\", min:0.5, max:5, step:0.1}\n",
        "c = 0 #@param {type: \"slider\", min:0, max:5, step:0.1}\n",
        "noise = 0.1 #@param {type:\"slider\", min:0, max:1, step:0.1}\n",
        "fig_size = 8 #@param {type:\"slider\", min:4, max:10, step:1}\n",
        "\n",
        "x = np.arange(-10, 10, 0.01)\n",
        "y_sin = a*np.sin(b*x) + c + noise*np.random.normal(size=x.shape)\n",
        "plt.figure(figsize=(fig_size, fig_size))\n",
        "plt.plot(x, y_sin)\n",
        "plt.xlabel('x', fontsize=14, style='italic')\n",
        "plt.ylabel('y', fontsize=14, style='italic')\n",
        "plt.title('Sine wave')\n",
        "plt.show()"
      ],
      "execution_count": 4,
      "outputs": [
        {
          "output_type": "display_data",
          "data": {
            "image/png": "[encoded data removed]",
            "text/plain": [
              "<Figure size 576x576 with 1 Axes>"
            ]
          },
          "metadata": {
            "tags": []
          }
        }
      ]
    },
    {
      "cell_type": "markdown",
      "metadata": {
        "id": "BrdTXAuy1Oym",
        "colab_type": "text"
      },
      "source": [
        "Notice that you can also hide the entire code field (*More cell actions --> Form --> Hide code* or just double-clicking on a form)"
      ]
    },
    {
      "cell_type": "markdown",
      "metadata": {
        "id": "yir7C8XjKmvC",
        "colab_type": "text"
      },
      "source": [
        "## Shell commands"
      ]
    },
    {
      "cell_type": "markdown",
      "metadata": {
        "id": "5_vA9wnlKrhR",
        "colab_type": "text"
      },
      "source": [
        "Unlike Jupyter Lab, Colab doesn't have (yet) an option to open and work in a terminal/shell. However, you can invoke shell commands by using either  `%%shell`  or  `%%bash` [\"cell magics\"](https://ipython.readthedocs.io/en/stable/interactive/magics.html#cell-magics) or by prefixing the command with `!` ."
      ]
    },
    {
      "cell_type": "markdown",
      "metadata": {
        "id": "r9G-TwSwIg0C",
        "colab_type": "text"
      },
      "source": [
        "Notice that usually it is more practical to use a \"scratch cell\" for interacting with a shell instead of adding additional cells to your notebook, especially for one-line shell commands (*Insert* --> *Scratch code cell* or Ctrl+Alt+N shortcut) : <br><br>\n",
        "\n",
        "<img src =\"https://drive.google.com/uc?export=view&id=1akLBq93g6zHLcWH3oc8SB3DJPlb5dZ-m\" width=800 px>"
      ]
    },
    {
      "cell_type": "markdown",
      "metadata": {
        "id": "sopDU856VDMk",
        "colab_type": "text"
      },
      "source": [
        "The following command will list files and sub-directories in the current directory:"
      ]
    },
    {
      "cell_type": "code",
      "metadata": {
        "id": "4-5Pn03qLIDi",
        "colab_type": "code",
        "outputId": "f3b8f6e6-82f1-44f9-e468-5ef1dacaadfc",
        "colab": {
          "base_uri": "https://localhost:8080/",
          "height": 35
        }
      },
      "source": [
        "!ls"
      ],
      "execution_count": 5,
      "outputs": [
        {
          "output_type": "stream",
          "text": [
            "sample_data\n"
          ],
          "name": "stdout"
        }
      ]
    },
    {
      "cell_type": "markdown",
      "metadata": {
        "id": "JvSTxGcyLa_b",
        "colab_type": "text"
      },
      "source": [
        "Let's create an empty directory. We first confirm that a directotry with such name doesn't already exist. Since this will result in multiple lines of code, we use `%%bash` command at the beginning of the cell, which indicates that all the code lines in this cell should be interpreted as shell script."
      ]
    },
    {
      "cell_type": "code",
      "metadata": {
        "id": "xB78yEw8LNh0",
        "colab_type": "code",
        "colab": {}
      },
      "source": [
        "%%bash\n",
        "newdir=\"ColabIntro\"\n",
        "if [ ! -d $newdir ]; then\n",
        "  mkdir $newdir\n",
        "fi"
      ],
      "execution_count": 0,
      "outputs": []
    },
    {
      "cell_type": "markdown",
      "metadata": {
        "id": "xJiI-UdkLgcH",
        "colab_type": "text"
      },
      "source": [
        "View again files and directories in the current folder. You should now be able to see a new folder that we've just created."
      ]
    },
    {
      "cell_type": "code",
      "metadata": {
        "id": "QpoGjX05L-Sj",
        "colab_type": "code",
        "outputId": "f7ca03bd-dfa9-4865-9c42-86e1d2fe1ccf",
        "colab": {
          "base_uri": "https://localhost:8080/",
          "height": 35
        }
      },
      "source": [
        "!ls"
      ],
      "execution_count": 7,
      "outputs": [
        {
          "output_type": "stream",
          "text": [
            "ColabIntro  sample_data\n"
          ],
          "name": "stdout"
        }
      ]
    },
    {
      "cell_type": "markdown",
      "metadata": {
        "id": "6RIf0uSPHGt7",
        "colab_type": "text"
      },
      "source": [
        "We can view a content of our new directory, which should be empty:"
      ]
    },
    {
      "cell_type": "code",
      "metadata": {
        "id": "Wy1ezWQiHNAF",
        "colab_type": "code",
        "colab": {}
      },
      "source": [
        "!ls ColabIntro"
      ],
      "execution_count": 0,
      "outputs": []
    },
    {
      "cell_type": "markdown",
      "metadata": {
        "id": "QZ926FpwNkb4",
        "colab_type": "text"
      },
      "source": [
        "Let's create a text file inside our new directory. We will place a \"Hello World\" greeting on the first line of this text file:"
      ]
    },
    {
      "cell_type": "code",
      "metadata": {
        "id": "JhGHmDBBMMRz",
        "colab_type": "code",
        "colab": {}
      },
      "source": [
        "!echo \"Hello World\" > ColabIntro/test.txt "
      ],
      "execution_count": 0,
      "outputs": []
    },
    {
      "cell_type": "markdown",
      "metadata": {
        "id": "Bkp3_dQONth7",
        "colab_type": "text"
      },
      "source": [
        "View content of our new folder. We should be able to see the text file we just created."
      ]
    },
    {
      "cell_type": "code",
      "metadata": {
        "id": "Q9S3SOOzMeBy",
        "colab_type": "code",
        "outputId": "c3e4de36-4e33-41e0-be2d-ea10dd513d59",
        "colab": {
          "base_uri": "https://localhost:8080/",
          "height": 35
        }
      },
      "source": [
        "!ls ColabIntro"
      ],
      "execution_count": 10,
      "outputs": [
        {
          "output_type": "stream",
          "text": [
            "test.txt\n"
          ],
          "name": "stdout"
        }
      ]
    },
    {
      "cell_type": "markdown",
      "metadata": {
        "id": "Y1LnXKPaN5hz",
        "colab_type": "text"
      },
      "source": [
        "We can read a text file with `cat` command"
      ]
    },
    {
      "cell_type": "code",
      "metadata": {
        "id": "jLgPsNALMlzb",
        "colab_type": "code",
        "outputId": "ea17d977-b89b-4311-a43f-bbaf90d9c1e2",
        "colab": {
          "base_uri": "https://localhost:8080/",
          "height": 35
        }
      },
      "source": [
        "!cat ColabIntro/test.txt"
      ],
      "execution_count": 11,
      "outputs": [
        {
          "output_type": "stream",
          "text": [
            "Hello World\n"
          ],
          "name": "stdout"
        }
      ]
    },
    {
      "cell_type": "markdown",
      "metadata": {
        "id": "7PZMmGZuH16c",
        "colab_type": "text"
      },
      "source": [
        "We can also move or copy files between directories directly from a notebook. In the example below we copy the created text file to our root folder:"
      ]
    },
    {
      "cell_type": "code",
      "metadata": {
        "id": "7lhglgu1IDcf",
        "colab_type": "code",
        "outputId": "1aade471-8b3f-4948-bf4e-f3644ffd03bb",
        "colab": {
          "base_uri": "https://localhost:8080/",
          "height": 35
        }
      },
      "source": [
        "!cp ColabIntro/test.txt ./\n",
        "!ls"
      ],
      "execution_count": 12,
      "outputs": [
        {
          "output_type": "stream",
          "text": [
            "ColabIntro  sample_data  test.txt\n"
          ],
          "name": "stdout"
        }
      ]
    },
    {
      "cell_type": "markdown",
      "metadata": {
        "id": "bH2LsgR6MxqX",
        "colab_type": "text"
      },
      "source": [
        "We can also write individual Python files to \"disk\" directly from a notebook. For example, it is common to store utility (\"helper\") functions defined in your notebook for some data analysis procedures in a separate python module (called e.g. utils.py) and then import them into the notebook. We can write a file to disk (virtual storage or GDrive) either with standard shell commands or with a notebook \"magic\" command (preferred). Let's first do it with a standard shell command:\n",
        "\n",
        "**Notice that now Colab allows creating Python files and editing them in a separate \"tab\".**"
      ]
    },
    {
      "cell_type": "code",
      "metadata": {
        "colab_type": "code",
        "id": "WN43YkideiKo",
        "colab": {}
      },
      "source": [
        "%%bash\n",
        "echo \"\"\"# -*- coding: utf-8 -*-\n",
        "'''util functions'''\n",
        "\n",
        "##### Import necessary modules #####\n",
        "\n",
        "def util1():\n",
        "    '''Brief description'''\n",
        "    \n",
        "    ##### Function body #####\n",
        "    \n",
        "    return\"\"\" > utils1.py"
      ],
      "execution_count": 0,
      "outputs": []
    },
    {
      "cell_type": "markdown",
      "metadata": {
        "colab_type": "text",
        "id": "PM8j2Vc4eh0I"
      },
      "source": [
        "View the Python file we just created:"
      ]
    },
    {
      "cell_type": "code",
      "metadata": {
        "colab_type": "code",
        "outputId": "3e0b982f-c89c-4dc4-e869-bb969ffbcf19",
        "id": "PbZXkjB5ehd5",
        "colab": {
          "base_uri": "https://localhost:8080/",
          "height": 208
        }
      },
      "source": [
        "!cat utils1.py"
      ],
      "execution_count": 14,
      "outputs": [
        {
          "output_type": "stream",
          "text": [
            "# -*- coding: utf-8 -*-\n",
            "'''util functions'''\n",
            "\n",
            "##### Import necessary modules #####\n",
            "\n",
            "def util1():\n",
            "    '''Brief description'''\n",
            "    \n",
            "    ##### Function body #####\n",
            "    \n",
            "    return\n"
          ],
          "name": "stdout"
        }
      ]
    },
    {
      "cell_type": "markdown",
      "metadata": {
        "id": "FrIL5G8GNhaO",
        "colab_type": "text"
      },
      "source": [
        "Append to the already existing python file (e.g. add another utility function):"
      ]
    },
    {
      "cell_type": "code",
      "metadata": {
        "id": "e4IT6t-nNBku",
        "colab_type": "code",
        "colab": {}
      },
      "source": [
        "%%bash\n",
        "echo \"\"\"\n",
        "def util2():\n",
        "    '''Brief description'''\n",
        "    \n",
        "    ##### Function body #####\n",
        "    \n",
        "    return\"\"\" >> utils1.py"
      ],
      "execution_count": 0,
      "outputs": []
    },
    {
      "cell_type": "markdown",
      "metadata": {
        "id": "KzSXrhe_PxXW",
        "colab_type": "text"
      },
      "source": [
        "View our Python file again:"
      ]
    },
    {
      "cell_type": "code",
      "metadata": {
        "id": "wFA2mtRQNvN6",
        "colab_type": "code",
        "outputId": "f8879017-85ec-46da-d19b-fc393ddb3571",
        "colab": {
          "base_uri": "https://localhost:8080/",
          "height": 329
        }
      },
      "source": [
        "!cat utils1.py"
      ],
      "execution_count": 16,
      "outputs": [
        {
          "output_type": "stream",
          "text": [
            "# -*- coding: utf-8 -*-\n",
            "'''util functions'''\n",
            "\n",
            "##### Import necessary modules #####\n",
            "\n",
            "def util1():\n",
            "    '''Brief description'''\n",
            "    \n",
            "    ##### Function body #####\n",
            "    \n",
            "    return\n",
            "\n",
            "def util2():\n",
            "    '''Brief description'''\n",
            "    \n",
            "    ##### Function body #####\n",
            "    \n",
            "    return\n"
          ],
          "name": "stdout"
        }
      ]
    },
    {
      "cell_type": "markdown",
      "metadata": {
        "id": "UpTOFJmVJSyi",
        "colab_type": "text"
      },
      "source": [
        "However it is much easier to write and edit+overwrite individual files with `%%writefile` \"magic\" command:"
      ]
    },
    {
      "cell_type": "code",
      "metadata": {
        "id": "WPb5HrAGIUQh",
        "colab_type": "code",
        "outputId": "a392c4a5-487a-41d1-b1a3-72b86bceb030",
        "colab": {
          "base_uri": "https://localhost:8080/",
          "height": 35
        }
      },
      "source": [
        "%%writefile utils2.py\n",
        "# -*- coding: utf-8 -*-\n",
        "\"\"\"util functions\"\"\"\n",
        "\n",
        "##### Import necessary modules #####\n",
        "\n",
        "def util1():\n",
        "    \"\"\"Brief description\"\"\"\n",
        "    \n",
        "    ##### Function body #####\n",
        "    \n",
        "    return\n",
        "\n",
        "def util2():\n",
        "    \"\"\"Brief description\"\"\"\n",
        "    \n",
        "    ##### Function body #####\n",
        "    \n",
        "    return"
      ],
      "execution_count": 17,
      "outputs": [
        {
          "output_type": "stream",
          "text": [
            "Writing utils2.py\n"
          ],
          "name": "stdout"
        }
      ]
    },
    {
      "cell_type": "markdown",
      "metadata": {
        "id": "3cW8dMfKdVq_",
        "colab_type": "text"
      },
      "source": [
        "View file content:"
      ]
    },
    {
      "cell_type": "code",
      "metadata": {
        "id": "wNfmQPZoKFtU",
        "colab_type": "code",
        "outputId": "9983c83b-b092-4774-dc0a-7e5987f9c902",
        "colab": {
          "base_uri": "https://localhost:8080/",
          "height": 329
        }
      },
      "source": [
        "!cat utils2.py"
      ],
      "execution_count": 18,
      "outputs": [
        {
          "output_type": "stream",
          "text": [
            "# -*- coding: utf-8 -*-\n",
            "\"\"\"util functions\"\"\"\n",
            "\n",
            "##### Import necessary modules #####\n",
            "\n",
            "def util1():\n",
            "    \"\"\"Brief description\"\"\"\n",
            "    \n",
            "    ##### Function body #####\n",
            "    \n",
            "    return\n",
            "\n",
            "def util2():\n",
            "    \"\"\"Brief description\"\"\"\n",
            "    \n",
            "    ##### Function body #####\n",
            "    \n",
            "    return"
          ],
          "name": "stdout"
        }
      ]
    },
    {
      "cell_type": "markdown",
      "metadata": {
        "id": "JrF12-bqPKPm",
        "colab_type": "text"
      },
      "source": [
        "Finally to download a large file from a google drive into your notebook, you can use a [gdown](https://pypi.org/project/gdown/) command followed by a *download* link. The difference between shared link and download link is that you need to replace 'open' with 'uc' in the link address. For example, this won't work:"
      ]
    },
    {
      "cell_type": "code",
      "metadata": {
        "id": "-W5kGPe1PlMd",
        "colab_type": "code",
        "outputId": "b4d94ffa-c289-417f-edeb-b87c80f77410",
        "colab": {
          "base_uri": "https://localhost:8080/",
          "height": 141
        }
      },
      "source": [
        "!gdown https://drive.google.com/open?id=1nJZ9OmrbHVLZIRlCylb5cYrOxnqBLCYq"
      ],
      "execution_count": 19,
      "outputs": [
        {
          "output_type": "stream",
          "text": [
            "/usr/local/lib/python2.7/dist-packages/gdown/parse_url.py:31: UserWarning: You specified Google Drive Link but it is not the correct link to download the file. Maybe you should try: https://drive.google.com/uc?id=1nJZ9OmrbHVLZIRlCylb5cYrOxnqBLCYq\n",
            "  .format(url='https://drive.google.com/uc?id={}'.format(file_id))\n",
            "Downloading...\n",
            "From: https://drive.google.com/open?id=1nJZ9OmrbHVLZIRlCylb5cYrOxnqBLCYq\n",
            "To: /content/open?id=1nJZ9OmrbHVLZIRlCylb5cYrOxnqBLCYq\n",
            "68.8kB [00:00, 9.25MB/s]\n"
          ],
          "name": "stdout"
        }
      ]
    },
    {
      "cell_type": "markdown",
      "metadata": {
        "id": "mkN0EQSvP7BH",
        "colab_type": "text"
      },
      "source": [
        "But once you change 'open' to 'uc' it starts working:"
      ]
    },
    {
      "cell_type": "code",
      "metadata": {
        "id": "W6KVbRNGQCCV",
        "colab_type": "code",
        "outputId": "8956b525-0185-4f56-8189-ff4db0242270",
        "colab": {
          "base_uri": "https://localhost:8080/",
          "height": 87
        }
      },
      "source": [
        "!gdown https://drive.google.com/uc?id=1nJZ9OmrbHVLZIRlCylb5cYrOxnqBLCYq"
      ],
      "execution_count": 20,
      "outputs": [
        {
          "output_type": "stream",
          "text": [
            "Downloading...\n",
            "From: https://drive.google.com/uc?id=1nJZ9OmrbHVLZIRlCylb5cYrOxnqBLCYq\n",
            "To: /content/atom2.npy\n",
            "\r  0% 0.00/13.6k [00:00<?, ?B/s]\r100% 13.6k/13.6k [00:00<00:00, 12.9MB/s]\n"
          ],
          "name": "stdout"
        }
      ]
    },
    {
      "cell_type": "markdown",
      "metadata": {
        "id": "zJv9zttQNc-j",
        "colab_type": "text"
      },
      "source": [
        "Now let's remove the directory and file(s) we created:"
      ]
    },
    {
      "cell_type": "code",
      "metadata": {
        "id": "BGRC4zyxNVpB",
        "colab_type": "code",
        "outputId": "3859d574-089b-4456-8ceb-1cbc812683c7",
        "colab": {
          "base_uri": "https://localhost:8080/",
          "height": 35
        }
      },
      "source": [
        "!rm -r ColabIntro test.txt *.py *.npy open?*\n",
        "!ls"
      ],
      "execution_count": 21,
      "outputs": [
        {
          "output_type": "stream",
          "text": [
            "sample_data\n"
          ],
          "name": "stdout"
        }
      ]
    },
    {
      "cell_type": "markdown",
      "metadata": {
        "id": "SdYs8IkFaddC",
        "colab_type": "text"
      },
      "source": [
        "## Installations\n",
        "\n",
        "Colab has most of popular machine/deep learning packages pre-installed but if a package that you would like to use is not in Colab, you can install it using ```pip``` command. For example:"
      ]
    },
    {
      "cell_type": "code",
      "metadata": {
        "id": "fLWDbFfGavkk",
        "colab_type": "code",
        "colab": {}
      },
      "source": [
        "try:\n",
        "    import numpyro\n",
        "except ModuleNotFoundError:\n",
        "    !pip install numpyro # it is okay to just use this last line"
      ],
      "execution_count": 0,
      "outputs": []
    },
    {
      "cell_type": "markdown",
      "metadata": {
        "id": "eZBB0g4ebIrk",
        "colab_type": "text"
      },
      "source": [
        "If a package needs to be installed with *setup.py* , you'll need to clone it first into your notebook's VM storage, cd into the cloned package directory and run ```python setup.py install``` command. For example:\n",
        "\n"
      ]
    },
    {
      "cell_type": "code",
      "metadata": {
        "id": "OmsBTtt5cHB8",
        "colab_type": "code",
        "colab": {}
      },
      "source": [
        "!git clone https://github.com/ziatdinovmax/GPim.git\n",
        "!cd GPim && python setup.py install"
      ],
      "execution_count": 0,
      "outputs": []
    },
    {
      "cell_type": "markdown",
      "metadata": {
        "id": "OoPbS5iGc2Jy",
        "colab_type": "text"
      },
      "source": [
        "Notice that when installing with *setup.py* option, you will typically need to restart Colab's runtime (*Runtime --> Restart runtime* ot just *Ctrl + M .*) for Colab/Python to see the newly installed package (so it makes sense to do it at the start of your notebook not to loose all your local variables)."
      ]
    },
    {
      "cell_type": "markdown",
      "metadata": {
        "id": "kUZo3FwaiUjH",
        "colab_type": "text"
      },
      "source": [
        "## Simple PyTorch operations"
      ]
    },
    {
      "cell_type": "markdown",
      "metadata": {
        "id": "O6U6_qCLhwom",
        "colab_type": "text"
      },
      "source": [
        " Let's now do some basic math operations with [PyTorch](https://pytorch.org/). PyTorch is a computational framework for building deep machine learning models. Here, however, we will use PyTorch for a high-school math first and then for a simple regression task.\n",
        " \n",
        " Import PyTorch:"
      ]
    },
    {
      "cell_type": "code",
      "metadata": {
        "id": "1tomlwVkhHEa",
        "colab_type": "code",
        "colab": {}
      },
      "source": [
        "import torch"
      ],
      "execution_count": 0,
      "outputs": []
    },
    {
      "cell_type": "markdown",
      "metadata": {
        "id": "9-D3t2YSkPJz",
        "colab_type": "text"
      },
      "source": [
        "Define some tensors:"
      ]
    },
    {
      "cell_type": "code",
      "metadata": {
        "id": "BK1PUGkdh3PC",
        "colab_type": "code",
        "colab": {}
      },
      "source": [
        "# Create 3-by-3 tensor containing random numbers\n",
        "a = torch.rand(3, 3)\n",
        "# Create 3-by-3 tensor containing all ones\n",
        "b = torch.ones(3, 3)\n",
        "# Create identity 3-by-3 tensor\n",
        "c = torch.eye(3, 3)\n",
        "# create 3-by-1 tensor containing random numbers\n",
        "d = torch.rand(3, 1)"
      ],
      "execution_count": 0,
      "outputs": []
    },
    {
      "cell_type": "markdown",
      "metadata": {
        "id": "QDZHcdNtEKsr",
        "colab_type": "text"
      },
      "source": [
        "View the tensors we just defined:"
      ]
    },
    {
      "cell_type": "code",
      "metadata": {
        "id": "mCprQr45EQHf",
        "colab_type": "code",
        "outputId": "9ba05c59-95be-4094-bd59-e8149b2a2c08",
        "colab": {
          "base_uri": "https://localhost:8080/",
          "height": 364
        }
      },
      "source": [
        "for t in [a, b, c, d]:\n",
        "    print('{}\\n{}\\n'.format(t, type(t)))"
      ],
      "execution_count": 45,
      "outputs": [
        {
          "output_type": "stream",
          "text": [
            "tensor([[0.1889, 0.9347, 0.6257],\n",
            "        [0.8130, 0.2136, 0.2007],\n",
            "        [0.4288, 0.9448, 0.5897]])\n",
            "<class 'torch.Tensor'>\n",
            "\n",
            "tensor([[1., 1., 1.],\n",
            "        [1., 1., 1.],\n",
            "        [1., 1., 1.]])\n",
            "<class 'torch.Tensor'>\n",
            "\n",
            "tensor([[1., 0., 0.],\n",
            "        [0., 1., 0.],\n",
            "        [0., 0., 1.]])\n",
            "<class 'torch.Tensor'>\n",
            "\n",
            "tensor([[0.4850],\n",
            "        [0.6646],\n",
            "        [0.9067]])\n",
            "<class 'torch.Tensor'>\n",
            "\n"
          ],
          "name": "stdout"
        }
      ]
    },
    {
      "cell_type": "markdown",
      "metadata": {
        "id": "CPU0DuixkTh-",
        "colab_type": "text"
      },
      "source": [
        "Affine transformation"
      ]
    },
    {
      "cell_type": "code",
      "metadata": {
        "id": "4xa5tpwciF_-",
        "colab_type": "code",
        "colab": {}
      },
      "source": [
        "a_ = torch.matmul(a, b) + d"
      ],
      "execution_count": 0,
      "outputs": []
    },
    {
      "cell_type": "markdown",
      "metadata": {
        "id": "JBq1TGKEkU5V",
        "colab_type": "text"
      },
      "source": [
        "View results:"
      ]
    },
    {
      "cell_type": "code",
      "metadata": {
        "id": "oPBvNs9Zi30T",
        "colab_type": "code",
        "outputId": "d1e72141-d202-4755-a7b8-7241fea1a3dd",
        "colab": {
          "base_uri": "https://localhost:8080/",
          "height": 87
        }
      },
      "source": [
        "print(a_, '\\n', type(a_))"
      ],
      "execution_count": 48,
      "outputs": [
        {
          "output_type": "stream",
          "text": [
            "tensor([[2.2343, 2.2343, 2.2343],\n",
            "        [1.8919, 1.8919, 1.8919],\n",
            "        [2.8698, 2.8698, 2.8698]]) \n",
            " <class 'torch.Tensor'>\n"
          ],
          "name": "stdout"
        }
      ]
    },
    {
      "cell_type": "markdown",
      "metadata": {
        "id": "pAjFG0_VSoc4",
        "colab_type": "text"
      },
      "source": [
        "Apply sigmoid operation to the transformed tensor:\n",
        "\n",
        "(Also notice that by running the cell below we will override the `a_` variable defined in the cell above.)"
      ]
    },
    {
      "cell_type": "code",
      "metadata": {
        "id": "EwoMoOtGSswS",
        "colab_type": "code",
        "colab": {}
      },
      "source": [
        "a_ = torch.sigmoid(a_)"
      ],
      "execution_count": 0,
      "outputs": []
    },
    {
      "cell_type": "markdown",
      "metadata": {
        "id": "B392QaYISzmi",
        "colab_type": "text"
      },
      "source": [
        "View results:"
      ]
    },
    {
      "cell_type": "code",
      "metadata": {
        "id": "DRQluAXiSxBX",
        "colab_type": "code",
        "colab": {
          "base_uri": "https://localhost:8080/",
          "height": 87
        },
        "outputId": "b9769f32-0c37-4169-e64a-b72964e093f9"
      },
      "source": [
        "print(a_, '\\n', type(a_))"
      ],
      "execution_count": 51,
      "outputs": [
        {
          "output_type": "stream",
          "text": [
            "tensor([[0.9033, 0.9033, 0.9033],\n",
            "        [0.8690, 0.8690, 0.8690],\n",
            "        [0.9463, 0.9463, 0.9463]]) \n",
            " <class 'torch.Tensor'>\n"
          ],
          "name": "stdout"
        }
      ]
    },
    {
      "cell_type": "markdown",
      "metadata": {
        "id": "pAp2eAGy0XOB",
        "colab_type": "text"
      },
      "source": [
        "It easy to convert between torch tensor class and \"standard\" python numpy array:"
      ]
    },
    {
      "cell_type": "code",
      "metadata": {
        "id": "k-c6xMsv0Wqy",
        "colab_type": "code",
        "outputId": "4c591ed9-0879-45e2-b051-9274668480aa",
        "colab": {
          "base_uri": "https://localhost:8080/",
          "height": 156
        }
      },
      "source": [
        "e = e.numpy() # torch tensor --> numpy\n",
        "print(e,'\\n', type(e))\n",
        "e = torch.from_numpy(e) # numpy --> torch tensor\n",
        "print(e, '\\n', type(e))"
      ],
      "execution_count": 37,
      "outputs": [
        {
          "output_type": "stream",
          "text": [
            "[[2. 1. 1.]\n",
            " [1. 2. 1.]\n",
            " [1. 1. 2.]] \n",
            " <class 'numpy.ndarray'>\n",
            "tensor([[2., 1., 1.],\n",
            "        [1., 2., 1.],\n",
            "        [1., 1., 2.]]) \n",
            " <class 'torch.Tensor'>\n"
          ],
          "name": "stdout"
        }
      ]
    },
    {
      "cell_type": "markdown",
      "metadata": {
        "id": "7Fzdw5ZlFYZz",
        "colab_type": "text"
      },
      "source": [
        "We can also concatenate tensors along the specified axis, e.g. here we concatenate two 2d tensors along their rows (dimension 0)"
      ]
    },
    {
      "cell_type": "code",
      "metadata": {
        "id": "XsOUGYbsE3-O",
        "colab_type": "code",
        "outputId": "882e2949-c52b-4999-8cd4-dd8d3db64281",
        "colab": {
          "base_uri": "https://localhost:8080/",
          "height": 139
        }
      },
      "source": [
        "bc = torch.cat((b, c), dim=0)\n",
        "print(bc, '\\n', bc.size())"
      ],
      "execution_count": 52,
      "outputs": [
        {
          "output_type": "stream",
          "text": [
            "tensor([[1., 1., 1.],\n",
            "        [1., 1., 1.],\n",
            "        [1., 1., 1.],\n",
            "        [1., 0., 0.],\n",
            "        [0., 1., 0.],\n",
            "        [0., 0., 1.]]) \n",
            " torch.Size([6, 3])\n"
          ],
          "name": "stdout"
        }
      ]
    },
    {
      "cell_type": "markdown",
      "metadata": {
        "id": "fXJbJv_gFfZ9",
        "colab_type": "text"
      },
      "source": [
        "Concatenation along columns (dimension 1):"
      ]
    },
    {
      "cell_type": "code",
      "metadata": {
        "id": "q3a4qQnwFJ58",
        "colab_type": "code",
        "outputId": "0da76eb1-ab2a-4543-d2c3-993efb8c1d88",
        "colab": {
          "base_uri": "https://localhost:8080/",
          "height": 87
        }
      },
      "source": [
        "bc = torch.cat((b, c), dim=1)\n",
        "print(bc, '\\n', bc.size())"
      ],
      "execution_count": 53,
      "outputs": [
        {
          "output_type": "stream",
          "text": [
            "tensor([[1., 1., 1., 1., 0., 0.],\n",
            "        [1., 1., 1., 0., 1., 0.],\n",
            "        [1., 1., 1., 0., 0., 1.]]) \n",
            " torch.Size([3, 6])\n"
          ],
          "name": "stdout"
        }
      ]
    },
    {
      "cell_type": "markdown",
      "metadata": {
        "id": "JnMkhEiZhgvZ",
        "colab_type": "text"
      },
      "source": [
        "Finally, pytorch tensors can be transferred to a GPU device for faster computations involving tensor operations. We can turn on/off a GPU support in *Runtime --> Change runtime type*). Notice that this notebook has GPU turned off by default."
      ]
    },
    {
      "cell_type": "markdown",
      "metadata": {
        "id": "vLqsUj8Wg3Zy",
        "colab_type": "text"
      },
      "source": [
        "**Small caveat:** Our numpy arrays are 64 bit floating point number by default, which is cast to DoubleTensor when `torch.from_numpy()` is called. When training our model, however, our weights will be FloatTensor (32 bit floating point) by default. This mismatch will cause an error. The easiest solution is to cast a DoubleTensor to FloatTensor by simply calling `.float()`, i.e. `bc = torch.from_numpy(bc).float()`."
      ]
    },
    {
      "cell_type": "markdown",
      "metadata": {
        "id": "QaVt43AzrzFj",
        "colab_type": "text"
      },
      "source": [
        "## Simple regression with PyTorch"
      ]
    },
    {
      "cell_type": "markdown",
      "metadata": {
        "id": "VYgFE2GP6xJ4",
        "colab_type": "text"
      },
      "source": [
        "Neural networks are [universal function approximator](https://en.wikipedia.org/wiki/Universal_approximation_theorem). To illustrate it here we will generate data points using a *sin* function, corrupt the produced data by random noise and then will \"fit\" the target distribution with a neural network. The data will be generated with PyTorch instead of numpy module (but notice many similarities):"
      ]
    },
    {
      "cell_type": "code",
      "metadata": {
        "id": "ZD3-WhLs-wbZ",
        "colab_type": "code",
        "colab": {}
      },
      "source": [
        "torch.manual_seed(42) # for reproducibility\n",
        "x = torch.unsqueeze(torch.arange(-10, 10, 0.01), dim=1)\n",
        "y = torch.sin(x) + 0.2*torch.randn(x.size())"
      ],
      "execution_count": 0,
      "outputs": []
    },
    {
      "cell_type": "markdown",
      "metadata": {
        "id": "r0CxPIG8ArLM",
        "colab_type": "text"
      },
      "source": [
        "Plot the generated data:"
      ]
    },
    {
      "cell_type": "code",
      "metadata": {
        "id": "UKOAUTCB_DIN",
        "colab_type": "code",
        "outputId": "41a485aa-afe7-49c5-f77a-e6e4ea7b4676",
        "colab": {
          "base_uri": "https://localhost:8080/",
          "height": 355
        }
      },
      "source": [
        "_, ax = plt.subplots(1, 1, figsize=(8, 5))\n",
        "ax.scatter(x, y, s=3)\n",
        "ax.set_xlabel('x', fontsize=14, style='italic')\n",
        "ax.set_ylabel('y', fontsize=14, style='italic')"
      ],
      "execution_count": 56,
      "outputs": [
        {
          "output_type": "execute_result",
          "data": {
            "text/plain": [
              "Text(0, 0.5, 'y')"
            ]
          },
          "metadata": {
            "tags": []
          },
          "execution_count": 56
        },
        {
          "output_type": "display_data",
          "data": {
            "image/png": "[encoded data removed]",
            "text/plain": [
              "<Figure size 576x360 with 1 Axes>"
            ]
          },
          "metadata": {
            "tags": []
          }
        }
      ]
    },
    {
      "cell_type": "markdown",
      "metadata": {
        "id": "lKY_X04Wcfxx",
        "colab_type": "text"
      },
      "source": [
        "We now constuct a simple neural network to fit the data distribution. Our neural network has just two [fully-connected layers](https://en.wikipedia.org/wiki/Multilayer_perceptron), each with 100 neurons, activated by [leaky rectified linear unit function](https://towardsdatascience.com/activation-functions-and-its-types-which-is-better-a9a5310cc8f). We then specify parameters for model training (weights optimizer and loss function/criterion) and move it to GPU device (if available) for faster computations."
      ]
    },
    {
      "cell_type": "markdown",
      "metadata": {
        "id": "pfHTdbTK_2QZ",
        "colab_type": "text"
      },
      "source": [
        "Build a model:"
      ]
    },
    {
      "cell_type": "code",
      "metadata": {
        "id": "Td1tsIA8BXP6",
        "colab_type": "code",
        "colab": {}
      },
      "source": [
        "# Construct model\n",
        "model = torch.nn.Sequential(\n",
        "        torch.nn.Linear(in_features=1, out_features=100),\n",
        "        torch.nn.LeakyReLU(),\n",
        "        torch.nn.Linear(in_features=100, out_features=100),\n",
        "        torch.nn.LeakyReLU(),\n",
        "        torch.nn.Linear(in_features=100, out_features=1),\n",
        "    )"
      ],
      "execution_count": 0,
      "outputs": []
    },
    {
      "cell_type": "markdown",
      "metadata": {
        "id": "Vr3tyn6Z_4hQ",
        "colab_type": "text"
      },
      "source": [
        "Move our model together with the training data to GPU device if available:"
      ]
    },
    {
      "cell_type": "code",
      "metadata": {
        "id": "KGl8g4wf_6zy",
        "colab_type": "code",
        "colab": {}
      },
      "source": [
        "if torch.cuda.is_available():\n",
        "    model.cuda()\n",
        "    x = x.cuda()\n",
        "    y = y.cuda()"
      ],
      "execution_count": 0,
      "outputs": []
    },
    {
      "cell_type": "markdown",
      "metadata": {
        "id": "iM6MQFFJ__po",
        "colab_type": "text"
      },
      "source": [
        "Specify optimizer and loss function for neural network training:"
      ]
    },
    {
      "cell_type": "code",
      "metadata": {
        "id": "7P9RHym_ABAQ",
        "colab_type": "code",
        "colab": {}
      },
      "source": [
        "optimizer = torch.optim.SGD(model.parameters(), lr=1e-3, momentum=0.9) # stochastic gradient descent\n",
        "criterion = torch.nn.MSELoss() # mean-squared loss"
      ],
      "execution_count": 0,
      "outputs": []
    },
    {
      "cell_type": "markdown",
      "metadata": {
        "id": "wSEM2ih3AZxp",
        "colab_type": "text"
      },
      "source": [
        "Finally, we train our simple model:\n",
        "\n",
        "(this should take  ~1 minute)"
      ]
    },
    {
      "cell_type": "code",
      "metadata": {
        "id": "nMbfh96I-wnP",
        "colab_type": "code",
        "outputId": "f1782e37-c6bd-4ab1-b4e7-d1d79c8777e3",
        "colab": {
          "base_uri": "https://localhost:8080/",
          "height": 1000
        }
      },
      "source": [
        "EPOCHS = 10000\n",
        "for e in range(EPOCHS):\n",
        "    # clear gradients\n",
        "    optimizer.zero_grad()\n",
        "    # propagate variable x through a network and get model's prediction\n",
        "    y_predicted = model(x)\n",
        "    # compare predicted value with true value and calculate mean squared error\n",
        "    loss = criterion(y_predicted, y)\n",
        "    # do backpropagation to compute gradients\n",
        "    loss.backward()\n",
        "    # optimize weights\n",
        "    optimizer.step() \n",
        "    # print statistics\n",
        "    if e % 100 == 0:\n",
        "        print('Epoch: {}  Loss: {}'.format(e, loss.item()))"
      ],
      "execution_count": 60,
      "outputs": [
        {
          "output_type": "stream",
          "text": [
            "Epoch: 0  Loss: 0.9128687977790833\n",
            "Epoch: 100  Loss: 0.4667527675628662\n",
            "Epoch: 200  Loss: 0.43778476119041443\n",
            "Epoch: 300  Loss: 0.406238317489624\n",
            "Epoch: 400  Loss: 0.3705228865146637\n",
            "Epoch: 500  Loss: 0.33172807097435\n",
            "Epoch: 600  Loss: 0.29589831829071045\n",
            "Epoch: 700  Loss: 0.2667531669139862\n",
            "Epoch: 800  Loss: 0.24581091105937958\n",
            "Epoch: 900  Loss: 0.2323637306690216\n",
            "Epoch: 1000  Loss: 0.22258441150188446\n",
            "Epoch: 1100  Loss: 0.21683037281036377\n",
            "Epoch: 1200  Loss: 0.21236781775951385\n",
            "Epoch: 1300  Loss: 0.20915962755680084\n",
            "Epoch: 1400  Loss: 0.20632988214492798\n",
            "Epoch: 1500  Loss: 0.2036537528038025\n",
            "Epoch: 1600  Loss: 0.20096290111541748\n",
            "Epoch: 1700  Loss: 0.19819846749305725\n",
            "Epoch: 1800  Loss: 0.19535435736179352\n",
            "Epoch: 1900  Loss: 0.19241313636302948\n",
            "Epoch: 2000  Loss: 0.189353808760643\n",
            "Epoch: 2100  Loss: 0.18616142868995667\n",
            "Epoch: 2200  Loss: 0.18268752098083496\n",
            "Epoch: 2300  Loss: 0.17923565208911896\n",
            "Epoch: 2400  Loss: 0.17567867040634155\n",
            "Epoch: 2500  Loss: 0.17200084030628204\n",
            "Epoch: 2600  Loss: 0.1681857407093048\n",
            "Epoch: 2700  Loss: 0.1642344444990158\n",
            "Epoch: 2800  Loss: 0.16014820337295532\n",
            "Epoch: 2900  Loss: 0.1559259295463562\n",
            "Epoch: 3000  Loss: 0.15157760679721832\n",
            "Epoch: 3100  Loss: 0.14710606634616852\n",
            "Epoch: 3200  Loss: 0.14254094660282135\n",
            "Epoch: 3300  Loss: 0.13789919018745422\n",
            "Epoch: 3400  Loss: 0.13319812715053558\n",
            "Epoch: 3500  Loss: 0.12844732403755188\n",
            "Epoch: 3600  Loss: 0.12367478013038635\n",
            "Epoch: 3700  Loss: 0.11890983581542969\n",
            "Epoch: 3800  Loss: 0.11415515840053558\n",
            "Epoch: 3900  Loss: 0.10947460681200027\n",
            "Epoch: 4000  Loss: 0.10490866750478745\n",
            "Epoch: 4100  Loss: 0.10044483840465546\n",
            "Epoch: 4200  Loss: 0.09605628252029419\n",
            "Epoch: 4300  Loss: 0.0918247252702713\n",
            "Epoch: 4400  Loss: 0.08773987740278244\n",
            "Epoch: 4500  Loss: 0.08386795222759247\n",
            "Epoch: 4600  Loss: 0.08018237352371216\n",
            "Epoch: 4700  Loss: 0.0766899585723877\n",
            "Epoch: 4800  Loss: 0.07344610244035721\n",
            "Epoch: 4900  Loss: 0.07049564272165298\n",
            "Epoch: 5000  Loss: 0.06776516884565353\n",
            "Epoch: 5100  Loss: 0.06526932865381241\n",
            "Epoch: 5200  Loss: 0.06295963376760483\n",
            "Epoch: 5300  Loss: 0.060817476361989975\n",
            "Epoch: 5400  Loss: 0.058924149721860886\n",
            "Epoch: 5500  Loss: 0.057202599942684174\n",
            "Epoch: 5600  Loss: 0.05563095211982727\n",
            "Epoch: 5700  Loss: 0.05421575903892517\n",
            "Epoch: 5800  Loss: 0.05291616544127464\n",
            "Epoch: 5900  Loss: 0.05173982307314873\n",
            "Epoch: 6000  Loss: 0.05069415271282196\n",
            "Epoch: 6100  Loss: 0.04976600408554077\n",
            "Epoch: 6200  Loss: 0.04889967665076256\n",
            "Epoch: 6300  Loss: 0.048128657042980194\n",
            "Epoch: 6400  Loss: 0.04741987958550453\n",
            "Epoch: 6500  Loss: 0.046793412417173386\n",
            "Epoch: 6600  Loss: 0.046224720776081085\n",
            "Epoch: 6700  Loss: 0.04570947214961052\n",
            "Epoch: 6800  Loss: 0.04525534436106682\n",
            "Epoch: 6900  Loss: 0.04483100026845932\n",
            "Epoch: 7000  Loss: 0.044446323066949844\n",
            "Epoch: 7100  Loss: 0.04408034682273865\n",
            "Epoch: 7200  Loss: 0.04375170171260834\n",
            "Epoch: 7300  Loss: 0.043451763689517975\n",
            "Epoch: 7400  Loss: 0.04316933825612068\n",
            "Epoch: 7500  Loss: 0.042921148240566254\n",
            "Epoch: 7600  Loss: 0.04269016906619072\n",
            "Epoch: 7700  Loss: 0.04247631877660751\n",
            "Epoch: 7800  Loss: 0.042204417288303375\n",
            "Epoch: 7900  Loss: 0.04202049970626831\n",
            "Epoch: 8000  Loss: 0.04185369983315468\n",
            "Epoch: 8100  Loss: 0.041689179837703705\n",
            "Epoch: 8200  Loss: 0.04154117405414581\n",
            "Epoch: 8300  Loss: 0.041401077061891556\n",
            "Epoch: 8400  Loss: 0.04126208648085594\n",
            "Epoch: 8500  Loss: 0.04113631322979927\n",
            "Epoch: 8600  Loss: 0.04100075736641884\n",
            "Epoch: 8700  Loss: 0.04088501259684563\n",
            "Epoch: 8800  Loss: 0.04074665531516075\n",
            "Epoch: 8900  Loss: 0.040635451674461365\n",
            "Epoch: 9000  Loss: 0.04052683338522911\n",
            "Epoch: 9100  Loss: 0.04042595624923706\n",
            "Epoch: 9200  Loss: 0.04033122584223747\n",
            "Epoch: 9300  Loss: 0.040243323892354965\n",
            "Epoch: 9400  Loss: 0.040159277617931366\n",
            "Epoch: 9500  Loss: 0.04008256644010544\n",
            "Epoch: 9600  Loss: 0.04001251608133316\n",
            "Epoch: 9700  Loss: 0.039948415011167526\n",
            "Epoch: 9800  Loss: 0.0398898646235466\n",
            "Epoch: 9900  Loss: 0.03982977196574211\n"
          ],
          "name": "stdout"
        }
      ]
    },
    {
      "cell_type": "markdown",
      "metadata": {
        "id": "rPuJmpUmbwyH",
        "colab_type": "text"
      },
      "source": [
        "Transfer data back to CPU (if we used it) and convert it to numpy for plotting:"
      ]
    },
    {
      "cell_type": "code",
      "metadata": {
        "id": "NVgaQC31Clh2",
        "colab_type": "code",
        "colab": {}
      },
      "source": [
        "x_to_plot = x.cpu().numpy()\n",
        "y_to_plot = y.cpu().numpy()\n",
        "y_predicted_to_plot = y_predicted.cpu().data.numpy()"
      ],
      "execution_count": 0,
      "outputs": []
    },
    {
      "cell_type": "markdown",
      "metadata": {
        "id": "bg_5ZfnFbzwY",
        "colab_type": "text"
      },
      "source": [
        "Plot results:"
      ]
    },
    {
      "cell_type": "code",
      "metadata": {
        "id": "xGKGE90c8lr2",
        "colab_type": "code",
        "outputId": "b1267595-c26f-4ca2-e9e9-3ae674e75daa",
        "colab": {
          "base_uri": "https://localhost:8080/",
          "height": 355
        }
      },
      "source": [
        "_, ax = plt.subplots(1, 1, figsize=(8, 5))\n",
        "ax.scatter(x_to_plot, y_to_plot, s=2, label='noisy sin(x)')\n",
        "ax.plot(x_to_plot, y_predicted_to_plot, c='orange', linewidth=2.5, label='model prediction')\n",
        "ax.set_xlabel('x', fontsize=14, style='italic')\n",
        "ax.set_ylabel('y', fontsize=14, style='italic')\n",
        "ax.legend(loc='best', fontsize=8)"
      ],
      "execution_count": 62,
      "outputs": [
        {
          "output_type": "execute_result",
          "data": {
            "text/plain": [
              "<matplotlib.legend.Legend at 0x7fbaefa739b0>"
            ]
          },
          "metadata": {
            "tags": []
          },
          "execution_count": 62
        },
        {
          "output_type": "display_data",
          "data": {
            "image/png": "[encoded data removed]",
            "text/plain": [
              "<Figure size 576x360 with 1 Axes>"
            ]
          },
          "metadata": {
            "tags": []
          }
        }
      ]
    },
    {
      "cell_type": "markdown",
      "metadata": {
        "id": "NW1VMpGR8GgD",
        "colab_type": "text"
      },
      "source": [
        "The result are actually pretty good. Notice that this type of neural network generally cannot capture long-range patterns in the data and is also not very good at generalization, which is why in the future we are going to use a network consisting of convolutional layers instead of classical \"linear\" layers as we did here."
      ]
    },
    {
      "cell_type": "markdown",
      "metadata": {
        "id": "IuOaiaIV6Szp",
        "colab_type": "text"
      },
      "source": [
        "Now let's see how good is our model at making predictions for new data points. First, transfer a model back to CPU:"
      ]
    },
    {
      "cell_type": "code",
      "metadata": {
        "id": "dym0yp7_6TPi",
        "colab_type": "code",
        "colab": {}
      },
      "source": [
        "model.cpu();"
      ],
      "execution_count": 0,
      "outputs": []
    },
    {
      "cell_type": "markdown",
      "metadata": {
        "id": "2t3x0PC27fKp",
        "colab_type": "text"
      },
      "source": [
        "Specify a value in radians for which you want to make a prediction:"
      ]
    },
    {
      "cell_type": "code",
      "metadata": {
        "id": "e-KGDyLR5QEB",
        "colab_type": "code",
        "outputId": "bb8a5704-ced6-420b-f3e7-4f26a51dbcac",
        "colab": {
          "base_uri": "https://localhost:8080/",
          "height": 87
        }
      },
      "source": [
        "new_data_point = 1.575\n",
        "print(\"Is this a new data point?\", new_data_point not in x)\n",
        "new_var = torch.Tensor([[new_data_point]])\n",
        "print(\"Trained model predicton:\", model(new_var).item())\n",
        "print(\"True value:\", torch.sin(new_var).item())\n",
        "print('Difference:', model(new_var).item() - torch.sin(new_var).item())"
      ],
      "execution_count": 64,
      "outputs": [
        {
          "output_type": "stream",
          "text": [
            "Is this a new data point? True\n",
            "Trained model predicton: 1.0087075233459473\n",
            "True value: 0.9999911785125732\n",
            "Difference: 0.008716344833374023\n"
          ],
          "name": "stdout"
        }
      ]
    },
    {
      "cell_type": "markdown",
      "metadata": {
        "id": "w8_TWAA7DuZ5",
        "colab_type": "text"
      },
      "source": [
        "This is quite close to a real sin(x) value for x=1.575"
      ]
    },
    {
      "cell_type": "markdown",
      "metadata": {
        "id": "3-8KZwLYY0TX",
        "colab_type": "text"
      },
      "source": [
        "## Connecting Colab notebook to Deep Learning VM on Google Cloud Platform\n",
        "\n",
        "Google Colab provides 12 GB of RAM and a free GPU (Tesla K80 or Tesla T4 and more recently Tesla P100). If this is not enough, you may connect your notebook  to a [Deep Learning VM](https://cloud.google.com/ml-engine/docs/notebooks/create-new) on Google Cloud Platform where you can adjust specs of your instance each time before launching it. I made a short tutorial video [here](https://drive.google.com/file/d/1ijawhI6AuPXxWhLu8flkrHZPTu3o_zF0/view?usp=sharing) ."
      ]
    },
    {
      "cell_type": "code",
      "metadata": {
        "id": "NywxoGTwity_",
        "colab_type": "code",
        "colab": {}
      },
      "source": [
        ""
      ],
      "execution_count": 0,
      "outputs": []
    }
  ]
}