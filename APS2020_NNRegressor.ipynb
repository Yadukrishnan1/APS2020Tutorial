{
  "nbformat": 4,
  "nbformat_minor": 0,
  "metadata": {
    "colab": {
      "name": "APS2020_NNRegressor.ipynb",
      "provenance": [],
      "collapsed_sections": [],
      "authorship_tag": "ABX9TyNAz0Q4F9tNtwqTQxjHqvbj",
      "include_colab_link": true
    },
    "kernelspec": {
      "name": "python3",
      "display_name": "Python 3"
    }
  },
  "cells": [
    {
      "cell_type": "markdown",
      "metadata": {
        "id": "view-in-github",
        "colab_type": "text"
      },
      "source": [
        "<a href=\"https://colab.research.google.com/github/ziatdinovmax/APS2020Tutorial/blob/master/APS2020_NNRegressor.ipynb\" target=\"_parent\"><img src=\"https://colab.research.google.com/assets/colab-badge.svg\" alt=\"Open In Colab\"/></a>"
      ]
    },
    {
      "cell_type": "markdown",
      "metadata": {
        "id": "h6zVN0hOaWbB",
        "colab_type": "text"
      },
      "source": [
        "## Regression with a neural network in PyTorch"
      ]
    },
    {
      "cell_type": "markdown",
      "metadata": {
        "id": "Z8OhuIHdaMU-",
        "colab_type": "text"
      },
      "source": [
        "Created: February 2019\n",
        "\n",
        "Author: Maxim Ziatdinov\n",
        "\n",
        "Email: ziatdinovmax@gmail.com"
      ]
    },
    {
      "cell_type": "markdown",
      "metadata": {
        "id": "OVkkU3tCU3TM",
        "colab_type": "text"
      },
      "source": [
        "\n",
        "---\n",
        "\n",
        "Neural networks are [universal function approximators](https://en.wikipedia.org/wiki/Universal_approximation_theorem). Here, as a simple illustration, we will generate data points using $e^{0.2x} \\times sin(x)$ function, corrupt the produced data by random noise and then will \"fit\" the target distribution with a neural network. Our regressor will be implemented using [PyTorch](https://pytorch.org/) deep/machine learning framework.\n",
        "\n",
        "---"
      ]
    },
    {
      "cell_type": "markdown",
      "metadata": {
        "id": "lLGvXGo2S-q1",
        "colab_type": "text"
      },
      "source": [
        "Imports:"
      ]
    },
    {
      "cell_type": "code",
      "metadata": {
        "id": "17n6sGAnRuOu",
        "colab_type": "code",
        "colab": {}
      },
      "source": [
        "import torch\n",
        "import matplotlib.pyplot as plt"
      ],
      "execution_count": 0,
      "outputs": []
    },
    {
      "cell_type": "markdown",
      "metadata": {
        "id": "alOdwe8ZSszX",
        "colab_type": "text"
      },
      "source": [
        "Define a helper function that set seeds for generating random numbers (for reproducibility):"
      ]
    },
    {
      "cell_type": "code",
      "metadata": {
        "id": "gZtKXst9SOGu",
        "colab_type": "code",
        "colab": {}
      },
      "source": [
        "def rng_seed(seed):\n",
        "    torch.manual_seed(seed)\n",
        "    if torch.cuda.is_available(): # for GPU\n",
        "        torch.cuda.manual_seed(seed)\n",
        "        torch.backends.cudnn.deterministic = True\n",
        "        torch.backends.cudnn.benchmark = False"
      ],
      "execution_count": 0,
      "outputs": []
    },
    {
      "cell_type": "markdown",
      "metadata": {
        "id": "w_PUglhsTBVC",
        "colab_type": "text"
      },
      "source": [
        "Generate regression set:"
      ]
    },
    {
      "cell_type": "code",
      "metadata": {
        "id": "35Rm6QWvTNY7",
        "colab_type": "code",
        "colab": {}
      },
      "source": [
        "rng_seed(1)\n",
        "x = torch.unsqueeze(torch.arange(-10, 10, 0.01), dim=1)\n",
        "y = torch.sin(x)*torch.exp(.2*x) + 0.2*torch.randn(x.size())"
      ],
      "execution_count": 0,
      "outputs": []
    },
    {
      "cell_type": "markdown",
      "metadata": {
        "id": "XqLGlzgFTbtf",
        "colab_type": "text"
      },
      "source": [
        "Plot generated set:"
      ]
    },
    {
      "cell_type": "code",
      "metadata": {
        "id": "HzFr5bs1TYqT",
        "colab_type": "code",
        "outputId": "5b417de3-15f1-411a-d251-5cc0f1c16597",
        "colab": {
          "base_uri": "https://localhost:8080/",
          "height": 356
        }
      },
      "source": [
        "_, ax = plt.subplots(1, 1, figsize=(8, 5))\n",
        "ax.scatter(x, y, s=3)\n",
        "ax.set_xlabel('x', fontsize=14, style='italic')\n",
        "ax.set_ylabel('y', fontsize=14, style='italic')"
      ],
      "execution_count": 0,
      "outputs": [
        {
          "output_type": "execute_result",
          "data": {
            "text/plain": [
              "Text(0, 0.5, 'y')"
            ]
          },
          "metadata": {
            "tags": []
          },
          "execution_count": 50
        },
        {
          "output_type": "display_data",
          "data": {
            "image/png": "[encoded data removed]",
            "text/plain": [
              "<Figure size 576x360 with 1 Axes>"
            ]
          },
          "metadata": {
            "tags": []
          }
        }
      ]
    },
    {
      "cell_type": "markdown",
      "metadata": {
        "id": "lKY_X04Wcfxx",
        "colab_type": "text"
      },
      "source": [
        "We are now going to constuct a simple neural network to fit the data distribution. Our neural network has just two [fully-connected layers](https://en.wikipedia.org/wiki/Multilayer_perceptron), each with 100 neurons, activated by [leaky rectified linear unit function](https://towardsdatascience.com/activation-functions-and-its-types-which-is-better-a9a5310cc8f). We will use Pytorch sequential container to build this simple model (later we will show how to construct a model in the object-oriented way):"
      ]
    },
    {
      "cell_type": "markdown",
      "metadata": {
        "id": "pfHTdbTK_2QZ",
        "colab_type": "text"
      },
      "source": [
        "Build a model:"
      ]
    },
    {
      "cell_type": "code",
      "metadata": {
        "id": "Td1tsIA8BXP6",
        "colab_type": "code",
        "colab": {}
      },
      "source": [
        "rng_seed(1)\n",
        "\n",
        "model = torch.nn.Sequential(\n",
        "        torch.nn.Linear(in_features=1, out_features=100),\n",
        "        torch.nn.LeakyReLU(),\n",
        "        torch.nn.Linear(in_features=100, out_features=100),\n",
        "        torch.nn.LeakyReLU(),\n",
        "        torch.nn.Linear(in_features=100, out_features=1),\n",
        "    )"
      ],
      "execution_count": 0,
      "outputs": []
    },
    {
      "cell_type": "markdown",
      "metadata": {
        "id": "Vr3tyn6Z_4hQ",
        "colab_type": "text"
      },
      "source": [
        "Move our model together with the training data to a GPU device if it is available:"
      ]
    },
    {
      "cell_type": "code",
      "metadata": {
        "id": "KGl8g4wf_6zy",
        "colab_type": "code",
        "colab": {}
      },
      "source": [
        "if torch.cuda.is_available():\n",
        "    model.cuda()\n",
        "    x = x.cuda()\n",
        "    y = y.cuda()"
      ],
      "execution_count": 0,
      "outputs": []
    },
    {
      "cell_type": "markdown",
      "metadata": {
        "id": "iM6MQFFJ__po",
        "colab_type": "text"
      },
      "source": [
        "Specify parameters for model training, namely weights optimizer and loss function (criterion):"
      ]
    },
    {
      "cell_type": "code",
      "metadata": {
        "id": "7P9RHym_ABAQ",
        "colab_type": "code",
        "colab": {}
      },
      "source": [
        "optimizer = torch.optim.Adam(model.parameters(), lr=5e-4) # Adam optimizer\n",
        "criterion = torch.nn.MSELoss() # mean-squared loss"
      ],
      "execution_count": 0,
      "outputs": []
    },
    {
      "cell_type": "markdown",
      "metadata": {
        "id": "wSEM2ih3AZxp",
        "colab_type": "text"
      },
      "source": [
        "Finally, we train our simple model:\n",
        "\n",
        "(this should take  ~1 minute)"
      ]
    },
    {
      "cell_type": "code",
      "metadata": {
        "id": "nMbfh96I-wnP",
        "colab_type": "code",
        "outputId": "457babe4-4f57-487f-82d1-0903525efedf",
        "colab": {
          "base_uri": "https://localhost:8080/",
          "height": 476
        }
      },
      "source": [
        "EPOCHS = 2500 # number of training \"cycles\"\n",
        "\n",
        "losses = []\n",
        "for e in range(EPOCHS):\n",
        "    # clear gradients\n",
        "    optimizer.zero_grad()\n",
        "    # propagate variable x through a network and get model's prediction\n",
        "    y_predicted = model(x)\n",
        "    # compare predicted value with true value and calculate mean squared error\n",
        "    loss = criterion(y_predicted, y)\n",
        "    # do backpropagation to compute gradients\n",
        "    loss.backward()\n",
        "    # optimize weights\n",
        "    optimizer.step() \n",
        "    # save loss\n",
        "    losses.append(loss.item())\n",
        "    # print statistics\n",
        "    if e % 100 == 0:\n",
        "        print('Epoch: {}  Loss: {}'.format(e, loss.item()))"
      ],
      "execution_count": 0,
      "outputs": [
        {
          "output_type": "stream",
          "text": [
            "Epoch: 0  Loss: 2.6368918418884277\n",
            "Epoch: 100  Loss: 2.1114261150360107\n",
            "Epoch: 200  Loss: 1.6979963779449463\n",
            "Epoch: 300  Loss: 1.5155922174453735\n",
            "Epoch: 400  Loss: 1.256343126296997\n",
            "Epoch: 500  Loss: 0.9209522604942322\n",
            "Epoch: 600  Loss: 0.6067993640899658\n",
            "Epoch: 700  Loss: 0.38440290093421936\n",
            "Epoch: 800  Loss: 0.24734370410442352\n",
            "Epoch: 900  Loss: 0.17142796516418457\n",
            "Epoch: 1000  Loss: 0.12446464598178864\n",
            "Epoch: 1100  Loss: 0.09670647978782654\n",
            "Epoch: 1200  Loss: 0.0800246000289917\n",
            "Epoch: 1300  Loss: 0.07349202036857605\n",
            "Epoch: 1400  Loss: 0.06224483624100685\n",
            "Epoch: 1500  Loss: 0.05762117728590965\n",
            "Epoch: 1600  Loss: 0.053612176328897476\n",
            "Epoch: 1700  Loss: 0.05087723955512047\n",
            "Epoch: 1800  Loss: 0.04890260100364685\n",
            "Epoch: 1900  Loss: 0.047312602400779724\n",
            "Epoch: 2000  Loss: 0.04627610743045807\n",
            "Epoch: 2100  Loss: 0.045338742434978485\n",
            "Epoch: 2200  Loss: 0.0520283542573452\n",
            "Epoch: 2300  Loss: 0.04964273422956467\n",
            "Epoch: 2400  Loss: 0.043663181364536285\n"
          ],
          "name": "stdout"
        }
      ]
    },
    {
      "cell_type": "markdown",
      "metadata": {
        "id": "JkXAcwHFXF0w",
        "colab_type": "text"
      },
      "source": [
        "Notice that to re-run the model training, you will need to re-initialize your model first ([in this cell](#scrollTo=Td1tsIA8BXP6)).\n",
        "\n"
      ]
    },
    {
      "cell_type": "markdown",
      "metadata": {
        "id": "OhNgQrp_X2hi",
        "colab_type": "text"
      },
      "source": [
        "Plot the training loss history:"
      ]
    },
    {
      "cell_type": "code",
      "metadata": {
        "id": "Dq_OTDbvWthB",
        "colab_type": "code",
        "outputId": "312cc647-bb27-48db-8332-a9a6498c50d5",
        "colab": {
          "base_uri": "https://localhost:8080/",
          "height": 297
        }
      },
      "source": [
        "plt.plot(losses, c='black', linewidth=2)\n",
        "plt.xlabel('Epochs')\n",
        "plt.ylabel('Training loss')"
      ],
      "execution_count": 0,
      "outputs": [
        {
          "output_type": "execute_result",
          "data": {
            "text/plain": [
              "Text(0, 0.5, 'Training loss')"
            ]
          },
          "metadata": {
            "tags": []
          },
          "execution_count": 55
        },
        {
          "output_type": "display_data",
          "data": {
            "image/png": "[encoded data removed]",
            "text/plain": [
              "<Figure size 432x288 with 1 Axes>"
            ]
          },
          "metadata": {
            "tags": []
          }
        }
      ]
    },
    {
      "cell_type": "markdown",
      "metadata": {
        "id": "rPuJmpUmbwyH",
        "colab_type": "text"
      },
      "source": [
        "Transfer data back to CPU (if we used GPU) and convert it to numpy for plotting:"
      ]
    },
    {
      "cell_type": "code",
      "metadata": {
        "id": "NVgaQC31Clh2",
        "colab_type": "code",
        "colab": {}
      },
      "source": [
        "x_to_plot = x.cpu().numpy()\n",
        "y_to_plot = y.cpu().numpy()\n",
        "y_predicted_to_plot = y_predicted.cpu().data.numpy()"
      ],
      "execution_count": 0,
      "outputs": []
    },
    {
      "cell_type": "markdown",
      "metadata": {
        "id": "bg_5ZfnFbzwY",
        "colab_type": "text"
      },
      "source": [
        "Plot results:"
      ]
    },
    {
      "cell_type": "code",
      "metadata": {
        "id": "xGKGE90c8lr2",
        "colab_type": "code",
        "outputId": "4ccac360-9322-4e87-e234-bcee739c7cd8",
        "colab": {
          "base_uri": "https://localhost:8080/",
          "height": 356
        }
      },
      "source": [
        "_, ax = plt.subplots(1, 1, figsize=(8, 5))\n",
        "ax.scatter(x_to_plot, y_to_plot, s=2, label='data')\n",
        "ax.plot(x_to_plot, y_predicted_to_plot, c='orange', \n",
        "        linewidth=2.5, label='model prediction')\n",
        "ax.set_xlabel('x', fontsize=14, style='italic')\n",
        "ax.set_ylabel('y', fontsize=14, style='italic')\n",
        "ax.legend(loc='best', fontsize=8)"
      ],
      "execution_count": 0,
      "outputs": [
        {
          "output_type": "execute_result",
          "data": {
            "text/plain": [
              "<matplotlib.legend.Legend at 0x7f38d2917fd0>"
            ]
          },
          "metadata": {
            "tags": []
          },
          "execution_count": 57
        },
        {
          "output_type": "display_data",
          "data": {
            "image/png": "[encoded data removed]",
            "text/plain": [
              "<Figure size 576x360 with 1 Axes>"
            ]
          },
          "metadata": {
            "tags": []
          }
        }
      ]
    },
    {
      "cell_type": "markdown",
      "metadata": {
        "id": "MNhlBBw0bi9w",
        "colab_type": "text"
      },
      "source": [
        "Now let's define the same model in the object-oriented way. While simple networks can be written using the sequential container (as in the example above), more complex networks are typically defined in the object-oriented way. To  do this, first we need to specify model parameters (using ```__init__```) and then outline how they are applied to the inputs (using ```forward```)."
      ]
    },
    {
      "cell_type": "code",
      "metadata": {
        "id": "mLAGrutiWESB",
        "colab_type": "code",
        "colab": {}
      },
      "source": [
        "class NNRegressor(torch.nn.Module):\n",
        "    \"\"\"2-layer neural network for regression\"\"\"\n",
        "    def __init__(self, nb_neurons):\n",
        "        \"\"\"Initialization of model parameters\"\"\"\n",
        "        super(NNRegressor, self).__init__()\n",
        "        self.layer1 = torch.nn.Linear(1, nb_neurons)\n",
        "        self.layer2 = torch.nn.Linear(nb_neurons, nb_neurons)\n",
        "        self.output_layer = torch.nn.Linear(nb_neurons, 1)\n",
        "        self.lrelu = torch.nn.functional.leaky_relu\n",
        "\n",
        "    def forward(self, x):\n",
        "        \"\"\"Forward path\"\"\"\n",
        "        l1 = self.lrelu(self.layer1(x))\n",
        "        l2 = self.lrelu(self.layer2(l1))\n",
        "        return self.output_layer(l2)"
      ],
      "execution_count": 0,
      "outputs": []
    },
    {
      "cell_type": "markdown",
      "metadata": {
        "id": "7XpoaiF_j3jU",
        "colab_type": "text"
      },
      "source": [
        "Next we initalize our model and specify the same training parameters as before:"
      ]
    },
    {
      "cell_type": "code",
      "metadata": {
        "id": "BD8qbG79dNZ6",
        "colab_type": "code",
        "colab": {}
      },
      "source": [
        "rng_seed(1)\n",
        "# Itialize our model\n",
        "model = NNRegressor(nb_neurons=100)\n",
        "# Move to GPU (if available)\n",
        "if torch.cuda.is_available():\n",
        "    model.cuda()\n",
        "    x = x.cuda()\n",
        "    y = y.cuda()\n",
        "# Specify weights optimizer and loss function (criterion)\n",
        "optimizer = torch.optim.Adam(model.parameters(), lr=5e-4) # Adam optimizer\n",
        "criterion = torch.nn.MSELoss() # mean-squared loss"
      ],
      "execution_count": 0,
      "outputs": []
    },
    {
      "cell_type": "markdown",
      "metadata": {
        "id": "bgLOCuR1gIBZ",
        "colab_type": "text"
      },
      "source": [
        "Train a model:"
      ]
    },
    {
      "cell_type": "code",
      "metadata": {
        "colab_type": "code",
        "outputId": "1680ce05-8edc-4c76-ff96-407672185e4b",
        "id": "_ECD11higHK-",
        "colab": {
          "base_uri": "https://localhost:8080/",
          "height": 476
        }
      },
      "source": [
        "EPOCHS = 2500 # number of training \"cycles\"\n",
        "\n",
        "losses = []\n",
        "for e in range(EPOCHS):\n",
        "    # clear gradients\n",
        "    optimizer.zero_grad()\n",
        "    # propagate variable x through a network and get model's prediction\n",
        "    y_predicted = model(x)\n",
        "    # compare predicted value with true value and calculate mean squared error\n",
        "    loss = criterion(y_predicted, y)\n",
        "    # do backpropagation to compute gradients\n",
        "    loss.backward()\n",
        "    # optimize weights\n",
        "    optimizer.step() \n",
        "    # save loss\n",
        "    losses.append(loss.item())\n",
        "    # print statistics\n",
        "    if e % 100 == 0:\n",
        "        print('Epoch: {}  Loss: {}'.format(e, loss.item()))"
      ],
      "execution_count": 0,
      "outputs": [
        {
          "output_type": "stream",
          "text": [
            "Epoch: 0  Loss: 2.6368918418884277\n",
            "Epoch: 100  Loss: 2.1114261150360107\n",
            "Epoch: 200  Loss: 1.6979963779449463\n",
            "Epoch: 300  Loss: 1.5155922174453735\n",
            "Epoch: 400  Loss: 1.256343126296997\n",
            "Epoch: 500  Loss: 0.9209522604942322\n",
            "Epoch: 600  Loss: 0.6067993640899658\n",
            "Epoch: 700  Loss: 0.38440290093421936\n",
            "Epoch: 800  Loss: 0.24734370410442352\n",
            "Epoch: 900  Loss: 0.17142796516418457\n",
            "Epoch: 1000  Loss: 0.12446464598178864\n",
            "Epoch: 1100  Loss: 0.09670647978782654\n",
            "Epoch: 1200  Loss: 0.0800246000289917\n",
            "Epoch: 1300  Loss: 0.07349202036857605\n",
            "Epoch: 1400  Loss: 0.06224483624100685\n",
            "Epoch: 1500  Loss: 0.05762117728590965\n",
            "Epoch: 1600  Loss: 0.053612176328897476\n",
            "Epoch: 1700  Loss: 0.05087723955512047\n",
            "Epoch: 1800  Loss: 0.04890260100364685\n",
            "Epoch: 1900  Loss: 0.047312602400779724\n",
            "Epoch: 2000  Loss: 0.04627610743045807\n",
            "Epoch: 2100  Loss: 0.045338742434978485\n",
            "Epoch: 2200  Loss: 0.0520283542573452\n",
            "Epoch: 2300  Loss: 0.04964273422956467\n",
            "Epoch: 2400  Loss: 0.043663181364536285\n"
          ],
          "name": "stdout"
        }
      ]
    },
    {
      "cell_type": "markdown",
      "metadata": {
        "colab_type": "text",
        "id": "RLz6J3ThgHLL"
      },
      "source": [
        "To re-train your model, you will need to re-initialize it ([in this cell](#scrollTo=BD8qbG79dNZ6))."
      ]
    },
    {
      "cell_type": "markdown",
      "metadata": {
        "colab_type": "text",
        "id": "DLhkKliagHLN"
      },
      "source": [
        "Plot the training loss history:"
      ]
    },
    {
      "cell_type": "code",
      "metadata": {
        "colab_type": "code",
        "outputId": "caa5c2f8-1813-4ba2-b94b-951ab22f614f",
        "id": "xWeECFnwgHLS",
        "colab": {
          "base_uri": "https://localhost:8080/",
          "height": 297
        }
      },
      "source": [
        "plt.plot(losses, c='black', linewidth=2)\n",
        "plt.xlabel('Epochs')\n",
        "plt.ylabel('Training loss')"
      ],
      "execution_count": 0,
      "outputs": [
        {
          "output_type": "execute_result",
          "data": {
            "text/plain": [
              "Text(0, 0.5, 'Training loss')"
            ]
          },
          "metadata": {
            "tags": []
          },
          "execution_count": 61
        },
        {
          "output_type": "display_data",
          "data": {
            "image/png": "[encoded data removed]",
            "text/plain": [
              "<Figure size 432x288 with 1 Axes>"
            ]
          },
          "metadata": {
            "tags": []
          }
        }
      ]
    },
    {
      "cell_type": "markdown",
      "metadata": {
        "colab_type": "text",
        "id": "w_rDQjBggHLg"
      },
      "source": [
        "Transfer data back to CPU (if we used GPU for training) and convert it to numpy array for plotting:"
      ]
    },
    {
      "cell_type": "code",
      "metadata": {
        "colab_type": "code",
        "id": "ydueJEnbgHLm",
        "colab": {}
      },
      "source": [
        "x_to_plot = x.cpu().numpy()\n",
        "y_to_plot = y.cpu().numpy()\n",
        "y_predicted_to_plot = y_predicted.cpu().data.numpy()"
      ],
      "execution_count": 0,
      "outputs": []
    },
    {
      "cell_type": "markdown",
      "metadata": {
        "colab_type": "text",
        "id": "0d7I56SxgHLz"
      },
      "source": [
        "Plot results:"
      ]
    },
    {
      "cell_type": "code",
      "metadata": {
        "colab_type": "code",
        "outputId": "7e1cef5d-42ac-4cfb-a6f9-307ad139a34b",
        "id": "bryTAARggHL1",
        "colab": {
          "base_uri": "https://localhost:8080/",
          "height": 356
        }
      },
      "source": [
        "_, ax = plt.subplots(1, 1, figsize=(8, 5))\n",
        "ax.scatter(x_to_plot, y_to_plot, s=2, label='data')\n",
        "ax.plot(x_to_plot, y_predicted_to_plot, c='orange', \n",
        "        linewidth=2.5, label='model prediction')\n",
        "ax.set_xlabel('x', fontsize=14, style='italic')\n",
        "ax.set_ylabel('y', fontsize=14, style='italic')\n",
        "ax.legend(loc='best', fontsize=8)"
      ],
      "execution_count": 0,
      "outputs": [
        {
          "output_type": "execute_result",
          "data": {
            "text/plain": [
              "<matplotlib.legend.Legend at 0x7f38d286dd30>"
            ]
          },
          "metadata": {
            "tags": []
          },
          "execution_count": 63
        },
        {
          "output_type": "display_data",
          "data": {
            "image/png": "[encoded data removed]",
            "text/plain": [
              "<Figure size 576x360 with 1 Axes>"
            ]
          },
          "metadata": {
            "tags": []
          }
        }
      ]
    },
    {
      "cell_type": "markdown",
      "metadata": {
        "id": "VU9SJ45rf7Ys",
        "colab_type": "text"
      },
      "source": [
        "Now let's see how good is our model at making predictions for new data points."
      ]
    },
    {
      "cell_type": "code",
      "metadata": {
        "id": "QJMgFc4R1JUG",
        "colab_type": "code",
        "outputId": "2618c35f-acb2-4ab7-b482-d80a0257a742",
        "colab": {
          "base_uri": "https://localhost:8080/",
          "height": 72
        }
      },
      "source": [
        "new_data_point = 2.575\n",
        "print(\"Is this a new data point?\", new_data_point not in x)\n",
        "new_var = torch.Tensor([[new_data_point]])\n",
        "print(\"Trained model predicton:\", model(new_var).item())\n",
        "print(\"True value:\", (torch.sin(new_var)*torch.exp(.2*new_var)).item())"
      ],
      "execution_count": 0,
      "outputs": [
        {
          "output_type": "stream",
          "text": [
            "Is this a new data point? True\n",
            "Trained model predicton: 0.8925276398658752\n",
            "True value: 0.8983426094055176\n"
          ],
          "name": "stdout"
        }
      ]
    },
    {
      "cell_type": "code",
      "metadata": {
        "id": "tAWpAv2z1lKy",
        "colab_type": "code",
        "colab": {}
      },
      "source": [
        ""
      ],
      "execution_count": 0,
      "outputs": []
    }
  ]
}